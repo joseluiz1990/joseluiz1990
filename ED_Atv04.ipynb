{
  "nbformat": 4,
  "nbformat_minor": 0,
  "metadata": {
    "colab": {
      "provenance": [],
      "mount_file_id": "1vd6x_dCWT_TmFDVHcwaSsxgHCHA2bCbD",
      "authorship_tag": "ABX9TyNhKEgd2g/+45dKu4i9NrmW",
      "include_colab_link": true
    },
    "kernelspec": {
      "name": "python3",
      "display_name": "Python 3"
    },
    "language_info": {
      "name": "python"
    }
  },
  "cells": [
    {
      "cell_type": "markdown",
      "metadata": {
        "id": "view-in-github",
        "colab_type": "text"
      },
      "source": [
        "<a href=\"https://colab.research.google.com/github/joseluiz1990/joseluiz1990/blob/main/ED_Atv04.ipynb\" target=\"_parent\"><img src=\"https://colab.research.google.com/assets/colab-badge.svg\" alt=\"Open In Colab\"/></a>"
      ]
    },
    {
      "cell_type": "markdown",
      "source": [
        "# Atividade 04 - NumPy e acesso à dados\n",
        "\n",
        "## 1) Qual base foi escolhida?\n",
        "Foi escolhida uma planilha CSV que é obtida atravé do site **Status Invest** que é uma plataforma para busca de informações de ativos (ações) da bolsa de valores e também para gerencimento de carteira de investimentos.\n",
        "\n",
        "https://statusinvest.com.br/acoes/busca-avancada\n",
        "\n",
        "Apesar da possibilidade de busca com \"filtros\" foi usada uma planilha completa e sem filtros\n",
        "\n",
        "## 2) Quais dados da base foram selecionados?\n",
        "Foram escolhidos os dados de **Valor de Mercado** das empresas\n",
        "\n",
        "## 3) Quais os contextos das análises?\n",
        "O contexto da análise foi separar as **50 maiores empresas** com Valor de Mercado e obter os valores estatíscos solicitados.\n",
        "\n",
        "Para isto foram usados recursos para:\n",
        "- ordenar a matriz usando **np.argsort**\n",
        "- comparar valores iguais usando **np.equal**\n",
        "- apagar valores usando **np.delete**\n",
        "- selecionar um vetor na matriz usando **fatiamento**\n",
        "\n",
        "# NOTAS:\n",
        "1) Algumas modificações foram feitas na planilha CSV original, antes da manipulação dos dados, pois ocorreram **erros durante o carregamento do arquivo CSV**\n",
        "- Usado Excel para:\n",
        "    - remover a primeira linha com os indicadores e a primeira coluna,\n",
        "    - colocar valor zero em células sem valores\n",
        "- Usado Notepad para:\n",
        "    - trocar virgula por ponto\n",
        "\n",
        "2) Foi utilizado a AI DeepSeek para a busca e explicação dos recursos como sort, delete e lógica no Numpy que não foram apresentados em sala de aula.\n",
        "\n",
        "# DÚVIDA\n",
        "Ficou a dúvida de como manipular planilhas com a linha e coluna de nomes, normais de uma planilha, uma vez que aparentemente o Numpy apenas manipula elementos do mesmo tipo.\n",
        "**Ou isto só pode ser feito no Pandas?**"
      ],
      "metadata": {
        "id": "jw0apjH5TMud"
      }
    },
    {
      "cell_type": "code",
      "execution_count": null,
      "metadata": {
        "id": "qv1Qpeajteeu",
        "colab": {
          "base_uri": "https://localhost:8080/"
        },
        "outputId": "d6f3ea41-7f0e-4412-e055-ef95d84cd317"
      },
      "outputs": [
        {
          "output_type": "stream",
          "name": "stdout",
          "text": [
            "Matriz das Ações listadas na Bolsa de Valores B3\n",
            "\n",
            "São 610 ações listadas na B3 com 29 indicadores de Valuation, Endividamento, Eficiencia, Rentabilidade e Crescimento\n",
            "\n",
            "---------------------------------------------------------------------------------------------------------------------\n",
            "\n",
            "Estatística dos valores de mercado das 50 maiores empresas\n",
            "\n",
            "Média        : 80361733191.40\n",
            "Mediana      : 42581568832.56\n",
            "Desvio Padrão: 85044999314.99\n",
            "Valor Máximo : 472737175770.29\n",
            "Valor Mínimo : 19038855497.51\n",
            "\n",
            "---------------------------------------------------------------------------------------------------------------------\n",
            "\n",
            "Ranking dos 50 maiores valores de mercado das empresas\n",
            "\n",
            "*** Valor de Mercado ***\n",
            "\n",
            "1º: 472737175770.29\n",
            "2º: 315079475412.78\n",
            "3º: 255409956526.60\n",
            "4º: 211625338022.48\n",
            "5º: 195469099166.86\n",
            "6º: 160463353120.00\n",
            "7º: 160451699191.56\n",
            "8º: 130709522382.08\n",
            "9º: 130709522382.08\n",
            "10º: 122064523322.01\n",
            "11º: 101179380190.04\n",
            "12º: 96543587281.63\n",
            "13º: 96543587281.63\n",
            "14º: 94320774810.38\n",
            "15º: 94320774810.38\n",
            "16º: 83423731487.36\n",
            "17º: 78780000000.00\n",
            "18º: 73907637448.40\n",
            "19º: 68540457085.30\n",
            "20º: 67633301537.55\n",
            "21º: 66311830000.00\n",
            "22º: 65176160037.30\n",
            "23º: 55868087569.80\n",
            "24º: 47430000000.00\n",
            "25º: 43428469843.60\n",
            "26º: 41734667821.52\n",
            "27º: 41526443086.05\n",
            "28º: 40848517375.54\n",
            "29º: 35401588441.72\n",
            "30º: 35325914093.60\n",
            "31º: 34742377665.48\n",
            "32º: 33973972951.89\n",
            "33º: 33313446324.04\n",
            "34º: 32912033010.00\n",
            "35º: 32676496944.00\n",
            "36º: 31294002375.60\n",
            "37º: 30891024236.40\n",
            "38º: 29627577368.76\n",
            "39º: 29627577368.76\n",
            "40º: 25028499253.76\n",
            "41º: 24841836425.20\n",
            "42º: 24369982181.87\n",
            "43º: 24286150381.83\n",
            "44º: 24286150381.83\n",
            "45º: 23735000000.00\n",
            "46º: 21733817575.59\n",
            "47º: 19954078631.49\n",
            "48º: 19750350000.00\n",
            "49º: 19038855497.51\n",
            "50º: 19038855497.51\n"
          ]
        }
      ],
      "source": [
        "import numpy as np\n",
        "\n",
        "# Ler a matriz do arquivo CSV com os indicadores das ações da Bolsa de Valores - B3\n",
        "matriz = np.loadtxt('/content/drive/MyDrive/Colab Notebooks/03_Estrutura de Dados/Atividades/Acoes.csv', delimiter=';')\n",
        "print(f\"Matriz das Ações listadas na Bolsa de Valores B3\\n\")\n",
        "\n",
        "# Imprimir o tamanho da matriz\n",
        "i, j = matriz.shape\n",
        "print(f\"São {i} ações listadas na B3 com {j-1} indicadores de Valuation, Endividamento, Eficiencia, Rentabilidade e Crescimento\\n\")\n",
        "print(f\"---------------------------------------------------------------------------------------------------------------------\\n\")\n",
        "# Ordenar a matriz em decrescente pelo valor de mercado\n",
        "indices=np.argsort(-matriz[:, -2])\n",
        "matriz_ordem=matriz[indices]\n",
        "\n",
        "# Deletar as linhas que possuem valores de mercado identicos\n",
        "# NOTA: Há empresas que possuem mais de um tipo de ação listada, exemplo ITUB3(ON) e ITUB4(PN), mas com o mesmo valor de mercado.\n",
        "linhas = i\n",
        "linha = 0\n",
        "matriz_nova = matriz_ordem\n",
        "while linha < linhas-1:\n",
        "  if np.equal (matriz_nova[linha, -2], matriz_nova[linha+1, -2]):\n",
        "    matriz_nova = np.delete(matriz_nova, linha, axis=0)\n",
        "    linhas = linhas-1  # decrementa o numero de linhas para cada linha deletada\n",
        "  linha = linha + 1\n",
        "\n",
        "# Criar um vetor só com os valores de mercado\n",
        "valor_mercado=(matriz_nova[:,-2])\n",
        "\n",
        "# Criar um vetor com os 50 maiores valores de mercado\n",
        "valor_mercado50=np.zeros(50)\n",
        "for i in range(50):\n",
        "  valor_mercado50[i]=valor_mercado[i]\n",
        "\n",
        "# Imprimir os valores estatísticos dos 50 maiores valores de mercado\n",
        "print(f\"Estatística dos valores de mercado das 50 maiores empresas\\n\")\n",
        "print(f\"Média        : {np.mean(valor_mercado50):.2f}\")   # Média\n",
        "print(f\"Mediana      : {np.median(valor_mercado50):.2f}\") # Mediana\n",
        "print(f\"Desvio Padrão: {np.std(valor_mercado50):.2f}\")    # Desvio padrão\n",
        "print(f\"Valor Máximo : {np.max(valor_mercado50):.2f}\")    # Máximo\n",
        "print(f\"Valor Mínimo : {np.min(valor_mercado50):.2f}\")    # Mínimo\n",
        "\n",
        "# Imprimir o Ranking dos 50 maiores valores de mercado\n",
        "print(f\"\\n---------------------------------------------------------------------------------------------------------------------\")\n",
        "print(f\"\\nRanking dos 50 maiores valores de mercado das empresas\\n\")\n",
        "print(f\"*** Valor de Mercado ***\\n\")\n",
        "for i in range(50):\n",
        "  print(f\"{i+1}º: {valor_mercado50[i]:.2f}\")"
      ]
    },
    {
      "cell_type": "code",
      "source": [
        "from google.colab import drive\n",
        "drive.mount('/content/drive')"
      ],
      "metadata": {
        "id": "Cmp-2xDkX97x"
      },
      "execution_count": null,
      "outputs": []
    }
  ]
}