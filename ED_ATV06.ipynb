{
  "nbformat": 4,
  "nbformat_minor": 0,
  "metadata": {
    "colab": {
      "provenance": [],
      "authorship_tag": "ABX9TyMyHfsM8hvsKaRkLzsXFwFw",
      "include_colab_link": true
    },
    "kernelspec": {
      "name": "python3",
      "display_name": "Python 3"
    },
    "language_info": {
      "name": "python"
    }
  },
  "cells": [
    {
      "cell_type": "markdown",
      "metadata": {
        "id": "view-in-github",
        "colab_type": "text"
      },
      "source": [
        "<a href=\"https://colab.research.google.com/github/joseluiz1990/joseluiz1990/blob/main/ED_ATV06.ipynb\" target=\"_parent\"><img src=\"https://colab.research.google.com/assets/colab-badge.svg\" alt=\"Open In Colab\"/></a>"
      ]
    },
    {
      "cell_type": "markdown",
      "source": [
        "# Atividade 06 - Pilha\n",
        "\n",
        "## Gerenciamento de Histórico de Navegação"
      ],
      "metadata": {
        "id": "l5cQo4HyhAEC"
      }
    },
    {
      "cell_type": "code",
      "source": [
        "class Pagina:\n",
        "    def __init__(self, valor):\n",
        "        # Inicializa um nó com o \"valor\" fornecido e o \"próximo\" nó como None.\n",
        "        self.valor = valor\n",
        "        self.proximo = None\n",
        "\n",
        "class Historico:\n",
        "    def __init__(self):\n",
        "        # Inicializa uma pilha vazia, com o \"topo\" apontando para None.\n",
        "        self.topo = None\n",
        "        self.tamanho = 0 # inicializa o \"tamanho\" da pilha com zero (0)\n",
        "\n",
        "    def pagina_visitar(self, item):\n",
        "        # Cria um novo nó com o valor do item e o insere no topo da pilha.\n",
        "        pagina_nova = Pagina(item)\n",
        "        pagina_nova.proximo = self.topo  # Aponta o novo nó para o nó que estava no topo.\n",
        "        self.topo = pagina_nova  # Atualiza o topo para ser o novo nó.\n",
        "        # self.historico_topo()\n",
        "        self.tamanho += 1  # Incrementa o tamanho da pilha.\n",
        "        # self.historico_tamanho()\n",
        "\n",
        "    def pagina_voltar(self):\n",
        "        # Remove e retorna o valor do nó no topo da pilha.\n",
        "        # Se a pilha estiver vazia, retorna None.\n",
        "        if self.historico_vazio():\n",
        "            return None\n",
        "        pagina_removida = self.topo.valor\n",
        "        self.topo = self.topo.proximo  # Atualiza o topo para o próximo nó.\n",
        "        self.tamanho -= 1  # Decrementa o tamanho da pilha.\n",
        "        print(f'\\nPagina Anterior:')\n",
        "        print(f'{pagina_removida}')\n",
        "        return pagina_removida\n",
        "\n",
        "    def historico_topo(self):\n",
        "        # Retorna o valor do nó no topo da pilha sem removê-lo.\n",
        "        # Se a pilha estiver vazia, retorna None.\n",
        "        if self.historico_vazio():\n",
        "            return None\n",
        "        print(f'Valor do Topo: {self.topo.valor}')\n",
        "        print(f'Indice/proximo do Topo: {self.topo.proximo}')\n",
        "        return self.topo.valor # retorna o \"valor\"\n",
        "\n",
        "    def historico_vazio(self):\n",
        "        # Retorna True se a pilha estiver vazia; caso contrário, False.\n",
        "        return self.topo is None\n",
        "\n",
        "    def historico_tamanho(self):\n",
        "        # Retorna o tamanho atual da pilha.\n",
        "        print(f'\\nTamanho do Historico: {self.tamanho}')\n",
        "        return self.tamanho\n",
        "\n",
        "    def historico_exibir(self):\n",
        "        # Método para exibir todos os valores na pilha\n",
        "        self.historico_tamanho()\n",
        "        print(\"Histórico de Navegação:\")\n",
        "        atual = self.topo # pega o \"valor\" e o índice do \"proximo\" que estão guardados no \"topo\"\n",
        "        while atual is not None:\n",
        "            print(atual.valor) # imprime o \"valor\" atual\n",
        "            atual = atual.proximo # atualiza o atual com o indice do \"proximo\" valor"
      ],
      "metadata": {
        "id": "WUCiGmhUh_Vn"
      },
      "execution_count": null,
      "outputs": []
    },
    {
      "cell_type": "code",
      "source": [
        "# Criar INSTÂNCIA \"historico\" a partir da Classe \"Historico\"\n",
        "# INSTANCIAR a Classe \"Historico\"\n",
        "historico = Historico()\n",
        "\n",
        "# Visitar páginas\n",
        "historico.pagina_visitar(\"https://www.fatecjd.edu.br\")\n",
        "historico.pagina_visitar(\"https://www.google.com\")\n",
        "historico.pagina_visitar(\"https://www.github.com\")\n",
        "historico.pagina_visitar(\"https://www.microsoft.com\")\n",
        "historico.pagina_visitar(\"https://aws.amazon.com\")\n",
        "\n",
        "# Exibir histórico de navegação\n",
        "historico.historico_exibir()\n",
        "\n",
        "# Voltar para a página anterior\n",
        "historico.pagina_voltar()\n",
        "\n",
        "# Exibir histórico de navegação\n",
        "historico.historico_exibir()\n",
        "\n",
        "# Voltar para a página anterior\n",
        "historico.pagina_voltar()\n",
        "\n",
        "# Exibir histórico de navegação\n",
        "historico.historico_exibir()\n",
        "\n",
        "# Voltar para a página anterior\n",
        "historico.pagina_voltar()\n",
        "\n",
        "# Exibir histórico de navegação\n",
        "historico.historico_exibir()\n",
        "\n",
        "# Voltar para a página anterior\n",
        "historico.pagina_voltar()\n",
        "\n",
        "# Exibir histórico de navegação\n",
        "historico.historico_exibir()\n",
        "\n",
        "# Voltar para a página anterior\n",
        "historico.pagina_voltar()\n",
        "\n",
        "# Exibir histórico de navegação\n",
        "historico.historico_exibir()"
      ],
      "metadata": {
        "colab": {
          "base_uri": "https://localhost:8080/"
        },
        "id": "1rCusIFYjnuI",
        "outputId": "f34b20e3-a1c0-4a70-d091-d885c5fb689f"
      },
      "execution_count": null,
      "outputs": [
        {
          "output_type": "stream",
          "name": "stdout",
          "text": [
            "\n",
            "Tamanho do Historico: 5\n",
            "Histórico de Navegação:\n",
            "https://aws.amazon.com\n",
            "https://www.microsoft.com\n",
            "https://www.github.com\n",
            "https://www.google.com\n",
            "https://www.fatecjd.edu.br\n",
            "\n",
            "Pagina Anterior:\n",
            "https://aws.amazon.com\n",
            "\n",
            "Tamanho do Historico: 4\n",
            "Histórico de Navegação:\n",
            "https://www.microsoft.com\n",
            "https://www.github.com\n",
            "https://www.google.com\n",
            "https://www.fatecjd.edu.br\n",
            "\n",
            "Pagina Anterior:\n",
            "https://www.microsoft.com\n",
            "\n",
            "Tamanho do Historico: 3\n",
            "Histórico de Navegação:\n",
            "https://www.github.com\n",
            "https://www.google.com\n",
            "https://www.fatecjd.edu.br\n",
            "\n",
            "Pagina Anterior:\n",
            "https://www.github.com\n",
            "\n",
            "Tamanho do Historico: 2\n",
            "Histórico de Navegação:\n",
            "https://www.google.com\n",
            "https://www.fatecjd.edu.br\n",
            "\n",
            "Pagina Anterior:\n",
            "https://www.google.com\n",
            "\n",
            "Tamanho do Historico: 1\n",
            "Histórico de Navegação:\n",
            "https://www.fatecjd.edu.br\n",
            "\n",
            "Pagina Anterior:\n",
            "https://www.fatecjd.edu.br\n",
            "\n",
            "Tamanho do Historico: 0\n",
            "Histórico de Navegação:\n"
          ]
        }
      ]
    }
  ]
}