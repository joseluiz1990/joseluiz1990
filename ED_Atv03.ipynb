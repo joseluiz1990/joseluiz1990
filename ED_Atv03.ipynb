{
  "nbformat": 4,
  "nbformat_minor": 0,
  "metadata": {
    "colab": {
      "provenance": [],
      "authorship_tag": "ABX9TyMiQRxPSeKJXAZcss+zIzN3",
      "include_colab_link": true
    },
    "kernelspec": {
      "name": "python3",
      "display_name": "Python 3"
    },
    "language_info": {
      "name": "python"
    }
  },
  "cells": [
    {
      "cell_type": "markdown",
      "metadata": {
        "id": "view-in-github",
        "colab_type": "text"
      },
      "source": [
        "<a href=\"https://colab.research.google.com/github/joseluiz1990/joseluiz1990/blob/main/ED_Atv03.ipynb\" target=\"_parent\"><img src=\"https://colab.research.google.com/assets/colab-badge.svg\" alt=\"Open In Colab\"/></a>"
      ]
    },
    {
      "cell_type": "markdown",
      "source": [
        "# Atividade 03\n",
        "\n",
        "## Qual API foi utilizada e o motivo da escolha?\n",
        "\n",
        "URL: https://olinda.bcb.gov.br/olinda/servico/PTAX/versao/v1/aplicacao#!/recursos/CotacaoDolarPeriodo\n",
        "\n",
        "## Qual dado ou dados foram extraídos?\n",
        "\n",
        "Foram extraídos os seguintes dados da API\n",
        "\n",
        "* cotação de compra\n",
        "* cotação de venda\n",
        "* data e hora da cotação (depois foi removida a hora e deixado apenas a data)\n",
        "\n",
        "## Como a função lambda foi aplicada e por que?\n",
        "\n",
        "Foram aplicadas duas funções lambdas\n",
        "\n",
        "1) uma para calcular o ágio absoluto, ou seja, a diferença entre a cotação de venda e de compra na função de armazenamento do dicionario\n",
        "\n",
        "2) outra para calcular o ágio percentual, ou seja, o percentual que o ágio absoluto representa em relação a cotação de compra e venda na função para exibir a pesquisa"
      ],
      "metadata": {
        "id": "-n_uemM32Asj"
      }
    },
    {
      "cell_type": "code",
      "source": [
        "import requests\n",
        "\n",
        "# Função de requisição à API do Banco Central para obter cotações diárias do dollar em um período de tempo\n",
        "def pesquisar_dollar(**data): # usando kwargs para passar as datas inicial e final\n",
        "  data_inicial = data['date_start']\n",
        "  data_final = data['date_end']\n",
        "  url = f\"https://olinda.bcb.gov.br/olinda/servico/PTAX/versao/v1/odata/CotacaoDolarPeriodo(dataInicial=@dataInicial,dataFinalCotacao=@dataFinalCotacao)?@dataInicial='\"+data_inicial+\"'&@dataFinalCotacao='\"+data_final+\"'&$top=20000&$format=json&$select=cotacaoCompra,cotacaoVenda,dataHoraCotacao\"\n",
        "  resposta = requests.get(url)\n",
        "  if resposta.status_code == 200:\n",
        "    dados = resposta.json()\n",
        "    return dados\n",
        "  else:\n",
        "    return {'Erro': 'Não foi possivel obter dados'}\n",
        "\n",
        "# Função para processar os dados e armazená-los em um dicionário.\n",
        "def armazenar_dic(dados):\n",
        "  cotacao_dollar={}\n",
        "  for i in range(len(dados['value'])):\n",
        "    compra=(dados['value'][i]['cotacaoCompra'])\n",
        "    venda=(dados['value'][i]['cotacaoVenda'])\n",
        "    data=(dados['value'][i]['dataHoraCotacao'])\n",
        "    data=data[:10] # pega somente o dia e remove a hora\n",
        "\n",
        "    # usado função lambda dentro da função armazenar dicionario para calcular o valor percentual de ágio entre compra e venda do dollar\n",
        "    diferenca_percentual = lambda sell, buy: ((sell-buy) / buy) * 100\n",
        "    valor = round(diferenca_percentual(venda,compra),4) # arredonda o valor para 4 casas decimais\n",
        "\n",
        "    cotacao_dollar[data] = {'cotacao_compra':compra, 'cotacao_venda':venda, 'diferenca_percent':valor}\n",
        "  return cotacao_dollar\n",
        "\n",
        "# Função para exibir as informações formatadas para o usuário.\n",
        "def exibir_pesquisa(cotacao_dollar):\n",
        "  print(f'\\n---Cotações de Compra e Venda de Dollar diária em um período ---\\n')\n",
        "  print('-' * 55)\n",
        "  for data,valores in cotacao_dollar.items():\n",
        "    print(f\"Data          : {data}\")\n",
        "    print(f\"Cotação Compra: {cotacao_dollar[data]['cotacao_compra']}\")\n",
        "    print(f\"Cotação Venda : {cotacao_dollar[data]['cotacao_venda']}\")\n",
        "    print(f\"Diferença %   : {cotacao_dollar[data]['diferenca_percent']}\")\n",
        "\n",
        "    # usado função lambda dentro da função exibir pesquisa para calcular o valor absoluto de ágio entre compra e venda do dollar\n",
        "    diferenca = lambda dif: dif[data]['cotacao_venda'] - dif[data]['cotacao_compra']\n",
        "    valor = diferenca(cotacao_dollar)\n",
        "    print(f\"Diferença     : {valor:.4f}\")\n",
        "    print('-' * 55)\n",
        "\n",
        "# Programa Principal\n",
        "continuar = 's'\n",
        "while continuar == 's': # enquanto continuar \"sim\", executa ....\n",
        "  data_inicial = input('Digite a data inicial no formato mm-dd-aaaa: ')\n",
        "  data_final = input('Digite a data final no formato mm-dd-aaaa: ')\n",
        "  dados = pesquisar_dollar(date_start=data_inicial, date_end=data_final) # pesquisa a cotação diária do dollar na API do Banco Central, passando parametros nomeados\n",
        "  if 'Erro' not in dados: # se não há erro no retorno da pesquisa, então...\n",
        "    cotacao_dollar = armazenar_dic(dados) # armazena os dados da pesquisa em dicionario de dicionarios, a chave principal é a Data da cotação\n",
        "    exibir_pesquisa(cotacao_dollar) # exibe a pesquisa\n",
        "  else: # senão ....\n",
        "    print(dados['Erro']) # imprime a mensagem de erro da pesquisa\n",
        "  continuar = input('Deseja continuar? [s/n]')\n"
      ],
      "metadata": {
        "colab": {
          "base_uri": "https://localhost:8080/"
        },
        "outputId": "b718157d-1cfd-4857-f4de-10029820b7f5",
        "id": "P9lfMq1Brgk_"
      },
      "execution_count": 2,
      "outputs": [
        {
          "name": "stdout",
          "output_type": "stream",
          "text": [
            "Digite a data inicial no formato mm-dd-aaaa: 03-05-2025\n",
            "Digite a data final no formato mm-dd-aaaa: 03-07-2025\n",
            "\n",
            "---Cotações de Compra e Venda de Dollar diária em um período ---\n",
            "\n",
            "-------------------------------------------------------\n",
            "Data          : 2025-03-05\n",
            "Cotação Compra: 5.7908\n",
            "Cotação Venda : 5.7914\n",
            "Diferença %   : 0.0104\n",
            "Diferença     : 0.0006\n",
            "-------------------------------------------------------\n",
            "Data          : 2025-03-06\n",
            "Cotação Compra: 5.7483\n",
            "Cotação Venda : 5.7489\n",
            "Diferença %   : 0.0104\n",
            "Diferença     : 0.0006\n",
            "-------------------------------------------------------\n",
            "Data          : 2025-03-07\n",
            "Cotação Compra: 5.7682\n",
            "Cotação Venda : 5.7688\n",
            "Diferença %   : 0.0104\n",
            "Diferença     : 0.0006\n",
            "-------------------------------------------------------\n",
            "Deseja continuar? [s/n]n\n"
          ]
        }
      ]
    }
  ]
}